{
  "nbformat": 4,
  "nbformat_minor": 0,
  "metadata": {
    "colab": {
      "provenance": []
    },
    "kernelspec": {
      "name": "python3",
      "display_name": "Python 3"
    },
    "language_info": {
      "name": "python"
    }
  },
  "cells": [
    {
      "cell_type": "markdown",
      "source": [
        "**Numbers (int and float)**"
      ],
      "metadata": {
        "id": "j3GM19PKSayW"
      }
    },
    {
      "cell_type": "code",
      "execution_count": 2,
      "metadata": {
        "colab": {
          "base_uri": "https://localhost:8080/"
        },
        "id": "AHpyHmfGQ4gM",
        "outputId": "3fd7aa95-9b8f-4237-a00f-ae9624172831"
      },
      "outputs": [
        {
          "output_type": "stream",
          "name": "stdout",
          "text": [
            "<class 'int'>\n",
            "3\n",
            "4\n",
            "2\n",
            "6\n",
            "9\n",
            "4\n",
            "<class 'float'>\n",
            "2.5 3.5 2.5 6.25\n"
          ]
        }
      ],
      "source": [
        "x = 3\n",
        "print(type(x)) #print \"<class 'int'>\"\n",
        "print(x)\n",
        "print(x + 1)\n",
        "print(x - 1)\n",
        "print(x * 2)\n",
        "print(x ** 2)\n",
        "\n",
        "x += 1\n",
        "print(x)\n",
        "x *= 2\n",
        "y = 2.5\n",
        "print(type(y))\n",
        "print(y, y+1, y * 1, y ** 2)\n"
      ]
    },
    {
      "cell_type": "markdown",
      "source": [
        "**Booleans**"
      ],
      "metadata": {
        "id": "f_w5BKeWSogr"
      }
    },
    {
      "cell_type": "code",
      "source": [
        "t = True\n",
        "f = False\n",
        "print(type(t)) #print \"<class 'bool'>\"\n",
        "print(t and f) #logical AND operation , 1 AND 0 = 0, print false(0)\n",
        "print(t or f) #logical OR operation , 1 OR 0 = 1 print true(1)\n",
        "print(not t) # print false\n",
        "print(t != f) #print true\n"
      ],
      "metadata": {
        "colab": {
          "base_uri": "https://localhost:8080/"
        },
        "id": "-acFQDpKSGzE",
        "outputId": "003e4ba3-6a0f-46f8-d967-eff852d19bf4"
      },
      "execution_count": 4,
      "outputs": [
        {
          "output_type": "stream",
          "name": "stdout",
          "text": [
            "<class 'bool'>\n",
            "False\n",
            "True\n",
            "False\n",
            "True\n"
          ]
        }
      ]
    },
    {
      "cell_type": "markdown",
      "source": [
        "**String**"
      ],
      "metadata": {
        "id": "fn5plHzLUvY1"
      }
    },
    {
      "cell_type": "code",
      "source": [
        "print(\"Hello World\")"
      ],
      "metadata": {
        "colab": {
          "base_uri": "https://localhost:8080/"
        },
        "id": "yPHCYZhrUuo-",
        "outputId": "22aa3a4a-aa80-48ee-f9ca-dc91ee791205"
      },
      "execution_count": 5,
      "outputs": [
        {
          "output_type": "stream",
          "name": "stdout",
          "text": [
            "Hello World\n"
          ]
        }
      ]
    },
    {
      "cell_type": "code",
      "source": [
        "print('Hello AIUB')"
      ],
      "metadata": {
        "colab": {
          "base_uri": "https://localhost:8080/"
        },
        "id": "WDvoah8YU27_",
        "outputId": "5cc31afb-d883-4d20-e584-112b0054fecb"
      },
      "execution_count": 6,
      "outputs": [
        {
          "output_type": "stream",
          "name": "stdout",
          "text": [
            "Hello AIUB\n"
          ]
        }
      ]
    },
    {
      "cell_type": "code",
      "source": [
        "print(\"\"\"Print\n",
        "Multiple\n",
        "Lines\"\"\")"
      ],
      "metadata": {
        "colab": {
          "base_uri": "https://localhost:8080/"
        },
        "id": "fIZvn7JyVBU-",
        "outputId": "a6f5bc03-033f-4230-863d-4a8266264115"
      },
      "execution_count": 7,
      "outputs": [
        {
          "output_type": "stream",
          "name": "stdout",
          "text": [
            "Print\n",
            "Multiple\n",
            "Lines\n"
          ]
        }
      ]
    },
    {
      "cell_type": "code",
      "source": [
        "a = 50\n",
        "print(f'In have only {a} dollers') # f means 'f-string' here"
      ],
      "metadata": {
        "colab": {
          "base_uri": "https://localhost:8080/"
        },
        "id": "DDsPh5clVkzl",
        "outputId": "b41272c7-b350-4cdd-a1ee-f56ab0860092"
      },
      "execution_count": 9,
      "outputs": [
        {
          "output_type": "stream",
          "name": "stdout",
          "text": [
            "In have only 50 dollers\n"
          ]
        }
      ]
    },
    {
      "cell_type": "code",
      "source": [
        "b = 50\n",
        "print(f'Now i have {b + 50} dollers')"
      ],
      "metadata": {
        "colab": {
          "base_uri": "https://localhost:8080/"
        },
        "id": "op6rGTQaVz_4",
        "outputId": "40fbaa91-bf53-470e-8c2a-1d8ebf9c168b"
      },
      "execution_count": 10,
      "outputs": [
        {
          "output_type": "stream",
          "name": "stdout",
          "text": [
            "Now i have 100 dollers\n"
          ]
        }
      ]
    },
    {
      "cell_type": "markdown",
      "source": [
        "\n",
        "\n",
        "*   Some methods here\n",
        "\n"
      ],
      "metadata": {
        "id": "36j5PLszWt6q"
      }
    },
    {
      "cell_type": "code",
      "source": [
        "a = 10\n",
        "\n",
        "print(f'a is {a}')\n",
        "print('a is {}' .format(a))\n",
        "print('a is ' +str(a))\n",
        "print('a is %d %d' % (a, a))"
      ],
      "metadata": {
        "colab": {
          "base_uri": "https://localhost:8080/"
        },
        "id": "fiCjl8KDW1Q_",
        "outputId": "391175a2-e983-4d60-b4e1-f5e70549cf6d"
      },
      "execution_count": 12,
      "outputs": [
        {
          "output_type": "stream",
          "name": "stdout",
          "text": [
            "a is 10\n",
            "a is 10\n",
            "a is 10\n",
            "a is 10 10\n"
          ]
        }
      ]
    },
    {
      "cell_type": "markdown",
      "source": [
        "**Condition Checking**"
      ],
      "metadata": {
        "id": "1p9zC1_wXkww"
      }
    },
    {
      "cell_type": "code",
      "source": [
        "a = 7\n",
        "b = 8\n",
        "\n",
        "if a==7:\n",
        "  print('The value of a is 7')\n",
        "  if b==8:\n",
        "    print('The vallue of b is 8')\n",
        "elif a==8:\n",
        "  print('The value of a is 8')\n",
        "else:\n",
        "  print('Anything')"
      ],
      "metadata": {
        "colab": {
          "base_uri": "https://localhost:8080/"
        },
        "id": "k-B9AtlaXp4O",
        "outputId": "478b9fbd-374a-4135-bf06-4e629c04c302"
      },
      "execution_count": 15,
      "outputs": [
        {
          "output_type": "stream",
          "name": "stdout",
          "text": [
            "The value of a is 7\n",
            "The vallue of b is 8\n"
          ]
        }
      ]
    },
    {
      "cell_type": "markdown",
      "source": [
        "**Looping**"
      ],
      "metadata": {
        "id": "Tw5HU9sBY7Xd"
      }
    },
    {
      "cell_type": "code",
      "source": [
        "for x in range(2, 10):\n",
        "  print(x)"
      ],
      "metadata": {
        "colab": {
          "base_uri": "https://localhost:8080/"
        },
        "id": "NAed-1OGY-oY",
        "outputId": "27456508-5fc4-409e-99c8-f08edd83e4e2"
      },
      "execution_count": 18,
      "outputs": [
        {
          "output_type": "stream",
          "name": "stdout",
          "text": [
            "2\n",
            "3\n",
            "4\n",
            "5\n",
            "6\n",
            "7\n",
            "8\n",
            "9\n"
          ]
        }
      ]
    },
    {
      "cell_type": "markdown",
      "source": [
        "\n",
        "\n",
        "*   Increment\n",
        "\n"
      ],
      "metadata": {
        "id": "AAYEsYxYaxN4"
      }
    },
    {
      "cell_type": "code",
      "source": [
        "for x in range(1,10,+1):\n",
        "  print('Serial: ', x)"
      ],
      "metadata": {
        "colab": {
          "base_uri": "https://localhost:8080/"
        },
        "id": "ryHYPa4ta1Y4",
        "outputId": "af7dc87c-13e7-46f5-9223-12c9e05811e1"
      },
      "execution_count": 22,
      "outputs": [
        {
          "output_type": "stream",
          "name": "stdout",
          "text": [
            "Serial:  1\n",
            "Serial:  2\n",
            "Serial:  3\n",
            "Serial:  4\n",
            "Serial:  5\n",
            "Serial:  6\n",
            "Serial:  7\n",
            "Serial:  8\n",
            "Serial:  9\n"
          ]
        }
      ]
    },
    {
      "cell_type": "markdown",
      "source": [
        "\n",
        "\n",
        "*   Derement\n",
        "\n"
      ],
      "metadata": {
        "id": "UE7ucfQ5bYCO"
      }
    },
    {
      "cell_type": "code",
      "source": [
        "for i in range(10,1,-2):\n",
        "  print('Serial: ', i)"
      ],
      "metadata": {
        "colab": {
          "base_uri": "https://localhost:8080/"
        },
        "id": "nFNaYU1GbbRi",
        "outputId": "8dd5ba22-030f-4b7b-8319-6bf348ae415b"
      },
      "execution_count": 24,
      "outputs": [
        {
          "output_type": "stream",
          "name": "stdout",
          "text": [
            "Serial:  10\n",
            "Serial:  8\n",
            "Serial:  6\n",
            "Serial:  4\n",
            "Serial:  2\n"
          ]
        }
      ]
    },
    {
      "cell_type": "code",
      "source": [
        "a = 1\n",
        "for x in range(1,10):\n",
        "  print(f'{a} + {x} = ', end=\"\")\n",
        "  a +=  x\n",
        "  print(a)"
      ],
      "metadata": {
        "colab": {
          "base_uri": "https://localhost:8080/"
        },
        "id": "_ex-dBpncNYr",
        "outputId": "c32c51d9-1872-4477-9363-a758ac5995e2"
      },
      "execution_count": 29,
      "outputs": [
        {
          "output_type": "stream",
          "name": "stdout",
          "text": [
            "1 + 1 = 2\n",
            "2 + 2 = 4\n",
            "4 + 3 = 7\n",
            "7 + 4 = 11\n",
            "11 + 5 = 16\n",
            "16 + 6 = 22\n",
            "22 + 7 = 29\n",
            "29 + 8 = 37\n",
            "37 + 9 = 46\n"
          ]
        }
      ]
    }
  ]
}