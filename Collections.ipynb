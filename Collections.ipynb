{
  "nbformat": 4,
  "nbformat_minor": 0,
  "metadata": {
    "colab": {
      "provenance": []
    },
    "kernelspec": {
      "name": "python3",
      "display_name": "Python 3"
    },
    "language_info": {
      "name": "python"
    }
  },
  "cells": [
    {
      "cell_type": "code",
      "execution_count": null,
      "metadata": {
        "id": "ghLPASMGi2Y6"
      },
      "outputs": [],
      "source": []
    },
    {
      "cell_type": "markdown",
      "source": [
        "## **Python Lists, Tuples, Dictionaries, & Sets**"
      ],
      "metadata": {
        "id": "cU6W7QL9i9CQ"
      }
    },
    {
      "cell_type": "code",
      "source": [
        "l = ['a', 'b', 1, 2] # List\n",
        "t = (3.3, 4.3, 'c', 'd') # Tuple\n",
        "\n",
        "print(l)\n",
        "print(t)"
      ],
      "metadata": {
        "colab": {
          "base_uri": "https://localhost:8080/"
        },
        "id": "iNrCwhazjfb0",
        "outputId": "ec0a78dd-859f-4dc3-b7e1-a904224d795a"
      },
      "execution_count": 5,
      "outputs": [
        {
          "output_type": "stream",
          "name": "stdout",
          "text": [
            "['a', 'b', 1, 2]\n",
            "(3.3, 4.3, 'c', 'd')\n"
          ]
        }
      ]
    },
    {
      "cell_type": "code",
      "source": [
        "print(l[0], t[1], t[-3])"
      ],
      "metadata": {
        "colab": {
          "base_uri": "https://localhost:8080/"
        },
        "id": "kunfAcK0kfn8",
        "outputId": "ea247d67-72b4-4c4f-b126-15ad21d5166b"
      },
      "execution_count": 11,
      "outputs": [
        {
          "output_type": "stream",
          "name": "stdout",
          "text": [
            "a 4.3 4.3\n"
          ]
        }
      ]
    },
    {
      "cell_type": "code",
      "source": [
        "for i in l:\n",
        "  print(i)"
      ],
      "metadata": {
        "colab": {
          "base_uri": "https://localhost:8080/"
        },
        "id": "nBeeyFO-oc73",
        "outputId": "bfc4e32b-3abd-4a0a-e0c3-7b995dcb69ee"
      },
      "execution_count": 12,
      "outputs": [
        {
          "output_type": "stream",
          "name": "stdout",
          "text": [
            "a\n",
            "b\n",
            "1\n",
            "2\n"
          ]
        }
      ]
    },
    {
      "cell_type": "code",
      "source": [
        "for i,v in enumerate(t):\n",
        "  print(f'{i} : {v}')"
      ],
      "metadata": {
        "colab": {
          "base_uri": "https://localhost:8080/"
        },
        "id": "hh8JTouuo_v9",
        "outputId": "11af4371-a339-4bdc-af48-3d0e5396d8a6"
      },
      "execution_count": 13,
      "outputs": [
        {
          "output_type": "stream",
          "name": "stdout",
          "text": [
            "0 : 3.3\n",
            "1 : 4.3\n",
            "2 : c\n",
            "3 : d\n"
          ]
        }
      ]
    },
    {
      "cell_type": "code",
      "source": [
        "c = []\n",
        "c.append('a')\n",
        "c.append('b')\n",
        "c.append('d')\n",
        "c.append('c')\n",
        "print(c)"
      ],
      "metadata": {
        "colab": {
          "base_uri": "https://localhost:8080/"
        },
        "id": "zKR6oAzKppak",
        "outputId": "bee3acdf-1c35-46a3-9baf-135781611bb7"
      },
      "execution_count": 16,
      "outputs": [
        {
          "output_type": "stream",
          "name": "stdout",
          "text": [
            "['a', 'b', 'd', 'c']\n"
          ]
        }
      ]
    },
    {
      "cell_type": "markdown",
      "source": [
        "**List**"
      ],
      "metadata": {
        "id": "1GfeVm1tqgJz"
      }
    },
    {
      "cell_type": "code",
      "source": [
        "l = ['a', 'b', 1, 2]\n",
        "print(l)"
      ],
      "metadata": {
        "colab": {
          "base_uri": "https://localhost:8080/"
        },
        "id": "70bf3zr-qfV8",
        "outputId": "908e5714-ad7d-47b8-d88e-0e53933a58c5"
      },
      "execution_count": 18,
      "outputs": [
        {
          "output_type": "stream",
          "name": "stdout",
          "text": [
            "['a', 'b', 1, 2]\n"
          ]
        }
      ]
    },
    {
      "cell_type": "markdown",
      "source": [
        "**Tuple**"
      ],
      "metadata": {
        "id": "FzdUTGxD--Kb"
      }
    },
    {
      "cell_type": "code",
      "source": [
        "t = (3.2, 7.5, 'a', 'b')\n",
        "print(t)"
      ],
      "metadata": {
        "colab": {
          "base_uri": "https://localhost:8080/"
        },
        "id": "mvptH-5G_JI0",
        "outputId": "3f806682-a331-4668-dc10-6faf541a2a8b"
      },
      "execution_count": 19,
      "outputs": [
        {
          "output_type": "stream",
          "name": "stdout",
          "text": [
            "(3.2, 7.5, 'a', 'b')\n"
          ]
        }
      ]
    },
    {
      "cell_type": "markdown",
      "source": [
        "**Set**"
      ],
      "metadata": {
        "id": "SG9Do1EP_YOj"
      }
    },
    {
      "cell_type": "code",
      "source": [
        "dept = {\"CSE\", \"EEE\", \"BBA\"}\n",
        "print(dept)"
      ],
      "metadata": {
        "colab": {
          "base_uri": "https://localhost:8080/"
        },
        "id": "Pih1Sx2y_acq",
        "outputId": "af133ff3-e626-4e53-8b3f-3793d2da2d33"
      },
      "execution_count": 20,
      "outputs": [
        {
          "output_type": "stream",
          "name": "stdout",
          "text": [
            "{'BBA', 'EEE', 'CSE'}\n"
          ]
        }
      ]
    },
    {
      "cell_type": "markdown",
      "source": [
        "**Dictionary**"
      ],
      "metadata": {
        "id": "ge16U9Po_oka"
      }
    },
    {
      "cell_type": "markdown",
      "source": [
        "\n",
        "\n",
        "*   Dictionary is a collection of name-value pare\n",
        "\n"
      ],
      "metadata": {
        "id": "MBZLftlxAHq7"
      }
    },
    {
      "cell_type": "code",
      "source": [
        "std = {'Nazmul': 3.4, 'Ahmed': 4.5, 'Ahsan': 4.5}\n",
        "print(std)"
      ],
      "metadata": {
        "colab": {
          "base_uri": "https://localhost:8080/"
        },
        "id": "HLp9iB3Z_r1M",
        "outputId": "1fc1f203-b544-4149-8cac-098a559c7ff9"
      },
      "execution_count": 21,
      "outputs": [
        {
          "output_type": "stream",
          "name": "stdout",
          "text": [
            "{'Nazmul': 3.4, 'Ahmed': 4.5, 'Ahsan': 4.5}\n"
          ]
        }
      ]
    }
  ]
}